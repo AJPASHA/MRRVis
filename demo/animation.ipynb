{
 "cells": [
  {
   "cell_type": "code",
   "execution_count": 1,
   "metadata": {},
   "outputs": [],
   "source": [
    "from mrrvis.env import Environment\n",
    "from mrrvis.history import History\n",
    "from mrrvis.vistools import AnimatedHistorySquare\n",
    "import numpy as np\n",
    "import matplotlib.pyplot as plt\n",
    "from matplotlib.animation import FuncAnimation\n",
    "from matplotlib.patches import RegularPolygon\n",
    "%matplotlib inline"
   ]
  },
  {
   "cell_type": "code",
   "execution_count": 2,
   "metadata": {},
   "outputs": [
    {
     "name": "stdout",
     "output_type": "stream",
     "text": [
      "[[1 2]\n",
      " [2 2]\n",
      " [2 3]\n",
      " [3 3]\n",
      " [3 2]\n",
      " [3 1]]\n"
     ]
    }
   ],
   "source": [
    "state_0 = np.array([[1,2],[2,2],[2,3],[3,3],[3,2],[3,1]])\n",
    "state_target = np.array([[2,1],[2,2],[2,3],[3,3],[3,2],[3,1]])\n",
    "env = Environment(state_0, state_target, 'Square')\n",
    "env.step('slide',0,'N')\n",
    "env.step('slide',0,'S')\n",
    "env.step('rotate',0,'SE')\n",
    "print(env.history.history[2].vertices)"
   ]
  },
  {
   "cell_type": "code",
   "execution_count": 3,
   "metadata": {},
   "outputs": [
    {
     "data": {
      "image/png": "[encoded data removed]",
      "text/plain": [
       "<Figure size 432x288 with 1 Axes>"
      ]
     },
     "metadata": {
      "needs_background": "light"
     },
     "output_type": "display_data"
    },
    {
     "data": {
      "text/plain": [
       "<mrrvis.vistools.AnimatedHistorySquare at 0x118afd9a0>"
      ]
     },
     "execution_count": 3,
     "metadata": {},
     "output_type": "execute_result"
    }
   ],
   "source": [
    "AnimatedHistorySquare(env.history)"
   ]
  },
  {
   "cell_type": "markdown",
   "metadata": {},
   "source": [
    "history = env.history.history\n",
    "fig = plt.figure()\n",
    "camera = Camera(fig)\n",
    "ax = plt.axes()\n",
    "state_0 = env.history.state_0\n",
    "ax.scatter(state_0[:,0], state_0[:,1])\n",
    "camera.snap()\n",
    "for frame in history:\n",
    "    ax.scatter(frame[:,0],frame[:,1])\n",
    "    camera.snap()\n",
    "\n",
    "anim = camera.animate()\n",
    "anim.save('demo_anim.gif')"
   ]
  },
  {
   "cell_type": "code",
   "execution_count": null,
   "metadata": {},
   "outputs": [],
   "source": []
  }
 ],
 "metadata": {
  "kernelspec": {
   "display_name": "Python 3 (ipykernel)",
   "language": "python",
   "name": "python3"
  },
  "language_info": {
   "codemirror_mode": {
    "name": "ipython",
    "version": 3
   },
   "file_extension": ".py",
   "mimetype": "text/x-python",
   "name": "python",
   "nbconvert_exporter": "python",
   "pygments_lexer": "ipython3",
   "version": "3.9.12"
  },
  "vscode": {
   "interpreter": {
    "hash": "a6b4198b3fa5c6a1746c2aa2eee3d0d088113281acc1bd2941b1bbb50c545c49"
   }
  }
 },
 "nbformat": 4,
 "nbformat_minor": 2
}
